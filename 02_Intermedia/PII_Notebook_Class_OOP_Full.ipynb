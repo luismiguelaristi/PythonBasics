{
 "cells": [
  {
   "cell_type": "markdown",
   "metadata": {},
   "source": [
    "# Programación Orientada a Objetos\n",
    "## Clases"
   ]
  },
  {
   "cell_type": "markdown",
   "metadata": {},
   "source": [
    "### Intro\n",
    "\n",
    "- Un Objeto en Python es un tipo de dato que guarda una relación con un objeto del mundo real.\n",
    "- Características:\n",
    " - Instance variable: lugar donde se almacenan datos en un objeto\n",
    " - Methods: herramientas para manipular datos en un objeto.\n",
    "\n",
    "- un (1) objeto es simplemente una (1) instacia de la clase. "
   ]
  },
  {
   "cell_type": "markdown",
   "metadata": {},
   "source": [
    "### Ejemplo: Lanzamiento de una moneda\n",
    "\n",
    "- Diseñe una clase llamada `coin` que tenga definida las siguientes `instance variables` y `methods`:\n",
    " - `side` (instance variable): almacena cual es el lado que actualmente tiene la moneda hacia arriba.\n",
    " - `get_side` (method): observador sobre que lado esta boca arriba.\n",
    " - `toss` (method): lanzar la moneda y actualizar el lado que esta boca arriba (random).\n",
    " - `set_side` (method): definición de lado a proposito."
   ]
  },
  {
   "cell_type": "code",
   "execution_count": 1,
   "metadata": {},
   "outputs": [],
   "source": [
    "# Definición Clase Coin\n",
    "from random import randint\n",
    "\n",
    "class Coin:\n",
    "    def __init__(self): # Método de inicialización\n",
    "        self.side = \"heads\"\n",
    "        \n",
    "    def get_side(self): # definición de un Method\n",
    "        return self.side\n",
    "    \n",
    "    def toss(self): # el 1er parámetros siempre debe ser \"self\"\n",
    "        temp = randint(0, 1) # variable temporal \n",
    "        if temp == 1:\n",
    "            self.side = \"Heads\" # Instance Variable \"side\" almacena el estado del objeto\n",
    "        else:\n",
    "            self.side = \"Tails\"\n",
    "    \n",
    "    def set_side(self,side_str):\n",
    "        self.side = side.str"
   ]
  },
  {
   "cell_type": "code",
   "execution_count": 2,
   "metadata": {},
   "outputs": [],
   "source": [
    "coin1 = Coin() # Creación de un objeto"
   ]
  },
  {
   "cell_type": "code",
   "execution_count": 3,
   "metadata": {},
   "outputs": [
    {
     "name": "stdout",
     "output_type": "stream",
     "text": [
      "heads\n"
     ]
    }
   ],
   "source": [
    "print(coin1.side)"
   ]
  },
  {
   "cell_type": "code",
   "execution_count": 4,
   "metadata": {},
   "outputs": [
    {
     "data": {
      "text/plain": [
       "'Tails'"
      ]
     },
     "execution_count": 4,
     "metadata": {},
     "output_type": "execute_result"
    }
   ],
   "source": [
    "coin1.toss()\n",
    "coin1.get_side()"
   ]
  },
  {
   "cell_type": "code",
   "execution_count": 5,
   "metadata": {},
   "outputs": [
    {
     "data": {
      "text/plain": [
       "'Tails'"
      ]
     },
     "execution_count": 5,
     "metadata": {},
     "output_type": "execute_result"
    }
   ],
   "source": [
    "coin1.toss()\n",
    "coin1.get_side()"
   ]
  },
  {
   "cell_type": "code",
   "execution_count": 6,
   "metadata": {},
   "outputs": [],
   "source": [
    "coin2 = Coin() # Creación de un objeto"
   ]
  },
  {
   "cell_type": "code",
   "execution_count": 7,
   "metadata": {},
   "outputs": [
    {
     "name": "stdout",
     "output_type": "stream",
     "text": [
      "Con la moneda 1 obtuvo:  Heads\n",
      "Con la moneda 2 obtuvo:  Heads\n"
     ]
    }
   ],
   "source": [
    "coin1.toss()\n",
    "print('Con la moneda 1 obtuvo: ',coin1.get_side())\n",
    "\n",
    "coin2.toss()\n",
    "print('Con la moneda 2 obtuvo: ',coin2.get_side())"
   ]
  },
  {
   "cell_type": "markdown",
   "metadata": {},
   "source": [
    "### Ejemplo: Banco de prueba\n",
    "\n",
    "- Diseñar una clase que tenga las siguientes `Instance Variable` y `Methods`:\n",
    " - `balance` (*intance variable*): representa (variable) la cantidad de dinero que hay actualmente en el banco.\n",
    " - `get_balance` (*method*): devuelve el balance.\n",
    " - `deposito` (*method*): ingreso de dinero a la cuenta.\n",
    " - `retiro` (*method*): retiro de dinero de la cuenta."
   ]
  },
  {
   "cell_type": "code",
   "execution_count": 8,
   "metadata": {},
   "outputs": [],
   "source": [
    "# Definición de la clase banco\n",
    "\n",
    "class Banco:\n",
    "    def __init__(self,m_in): # inicializador\n",
    "        self.balance = m_in\n",
    "        \n",
    "    def get_balance(self):\n",
    "        return self.balance\n",
    "    \n",
    "    def deposit(self, cantidad):\n",
    "        if cantidad < 0:\n",
    "            print(\"La cantidad no puede ser negativa.\")\n",
    "        elif self.balance + cantidad > 100:\n",
    "            print(\"No tiene suficiente espacio para esta cantidad\")\n",
    "            \n",
    "        else:\n",
    "            self.balance += cantidad\n",
    "    \n",
    "    def retiro(self, cantidad):\n",
    "        if cantidad < 0:\n",
    "            print('La cantidad no puede ser negativa.')\n",
    "        elif self.balance - cantidad < 0:\n",
    "            print('La cantidad a retirar es mayor que el balance actual')\n",
    "        else:\n",
    "            self.balance -= cantidad"
   ]
  },
  {
   "cell_type": "code",
   "execution_count": 9,
   "metadata": {},
   "outputs": [],
   "source": [
    "cuenta1 = Banco(10000) # creación de la cuenta"
   ]
  },
  {
   "cell_type": "code",
   "execution_count": 10,
   "metadata": {},
   "outputs": [
    {
     "data": {
      "text/plain": [
       "10000"
      ]
     },
     "execution_count": 10,
     "metadata": {},
     "output_type": "execute_result"
    }
   ],
   "source": [
    "cuenta1.balance"
   ]
  },
  {
   "cell_type": "code",
   "execution_count": 11,
   "metadata": {},
   "outputs": [
    {
     "data": {
      "text/plain": [
       "10000"
      ]
     },
     "execution_count": 11,
     "metadata": {},
     "output_type": "execute_result"
    }
   ],
   "source": [
    "cuenta1.get_balance()"
   ]
  },
  {
   "cell_type": "code",
   "execution_count": 12,
   "metadata": {},
   "outputs": [],
   "source": [
    "import random"
   ]
  },
  {
   "cell_type": "code",
   "execution_count": 13,
   "metadata": {},
   "outputs": [
    {
     "name": "stdout",
     "output_type": "stream",
     "text": [
      "35\n"
     ]
    }
   ],
   "source": [
    "a1 = random.randint(0,100) # valor aleatorio entre 0 y 100\n",
    "print(a1)"
   ]
  },
  {
   "cell_type": "code",
   "execution_count": 14,
   "metadata": {},
   "outputs": [
    {
     "name": "stdout",
     "output_type": "stream",
     "text": [
      "No tiene suficiente espacio para esta cantidad\n"
     ]
    }
   ],
   "source": [
    "cuenta1.deposit(a1)"
   ]
  },
  {
   "cell_type": "code",
   "execution_count": 15,
   "metadata": {},
   "outputs": [
    {
     "data": {
      "text/plain": [
       "10000"
      ]
     },
     "execution_count": 15,
     "metadata": {},
     "output_type": "execute_result"
    }
   ],
   "source": [
    "cuenta1.get_balance()"
   ]
  },
  {
   "cell_type": "code",
   "execution_count": 16,
   "metadata": {},
   "outputs": [
    {
     "name": "stdout",
     "output_type": "stream",
     "text": [
      "9\n"
     ]
    }
   ],
   "source": [
    "a2 = random.randint(0,100)\n",
    "print(a2)"
   ]
  },
  {
   "cell_type": "code",
   "execution_count": 17,
   "metadata": {},
   "outputs": [
    {
     "name": "stdout",
     "output_type": "stream",
     "text": [
      "No tiene suficiente espacio para esta cantidad\n"
     ]
    }
   ],
   "source": [
    "cuenta1.deposit(a2)"
   ]
  },
  {
   "cell_type": "code",
   "execution_count": 18,
   "metadata": {
    "scrolled": true
   },
   "outputs": [
    {
     "name": "stdout",
     "output_type": "stream",
     "text": [
      "9991\n"
     ]
    }
   ],
   "source": [
    "cuenta1.retiro(a2)\n",
    "print(cuenta1.get_balance())"
   ]
  },
  {
   "cell_type": "code",
   "execution_count": 19,
   "metadata": {
    "scrolled": true
   },
   "outputs": [
    {
     "name": "stdout",
     "output_type": "stream",
     "text": [
      "Help on class Banco in module __main__:\n",
      "\n",
      "class Banco(builtins.object)\n",
      " |  Banco(m_in)\n",
      " |  \n",
      " |  Methods defined here:\n",
      " |  \n",
      " |  __init__(self, m_in)\n",
      " |      Initialize self.  See help(type(self)) for accurate signature.\n",
      " |  \n",
      " |  deposit(self, cantidad)\n",
      " |  \n",
      " |  get_balance(self)\n",
      " |  \n",
      " |  retiro(self, cantidad)\n",
      " |  \n",
      " |  ----------------------------------------------------------------------\n",
      " |  Data descriptors defined here:\n",
      " |  \n",
      " |  __dict__\n",
      " |      dictionary for instance variables (if defined)\n",
      " |  \n",
      " |  __weakref__\n",
      " |      list of weak references to the object (if defined)\n",
      "\n",
      "None\n"
     ]
    }
   ],
   "source": [
    "print(help(Banco))"
   ]
  },
  {
   "cell_type": "markdown",
   "metadata": {},
   "source": [
    "## Classes and Inheritance\n"
   ]
  },
  {
   "cell_type": "markdown",
   "metadata": {},
   "source": [
    "- Una clase (llamada subclase) puede heredar `instance variables` y `methods` de otra clase (llamada superclase).\n",
    "\n",
    "- Clase Empleado\n",
    " - Tipo de empleados:\n",
    "   - Operario\n",
    "   - Supervisor"
   ]
  },
  {
   "cell_type": "code",
   "execution_count": 97,
   "metadata": {},
   "outputs": [],
   "source": [
    "class Empleado: \n",
    "      # instance class\n",
    "    incremeto_salarial=1.04\n",
    "    \n",
    "    def __init__(self,nombre,apellido,salario):\n",
    "        self.nombre=nombre\n",
    "        self.apellido=apellido\n",
    "        self.email=nombre+'.'+apellido+'@email.com'\n",
    "        self.salario=salario\n",
    "        \n",
    "    def nombre_completo(self):\n",
    "        return '{} {}'.format(self.nombre,self.apellido)\n",
    "    \n",
    "    def aplicar_aumento(self):\n",
    "        self.salario = float(self.salario*self.incremeto_salarial)\n",
    "    \n",
    "    def print_salario(self):\n",
    "        return self.salario\n",
    "    \n",
    "  \n",
    "  \n",
    "class Operario(Empleado):\n",
    "    incremeto_salarial=1.1\n",
    "    \n",
    "    def __init__(self,nombre,apellido,salario,linea):\n",
    "        super().__init__(nombre,apellido,salario) # admin Empleado\n",
    "        #Empleado.__init__(self,nombre,apellido,salario)\n",
    "        self.linea = linea\n",
    "        \n",
    "        \n",
    "class Supervisior(Empleado):\n",
    "    def __init__(self,nombre,apellido,salario,l_empleados=None):\n",
    "        super().__init__(nombre,apellido,salario) # admin Empleado\n",
    "        #Empleado.__init__(self,nombre,apellido,salario)\n",
    "        if l_empleados is None:\n",
    "            self.l_empleados = []\n",
    "        else:\n",
    "            self.l_empleados = l_empleados\n",
    "            \n",
    "            \n",
    "    def ad_emp(self,emp):\n",
    "        if emp not in self.l_empleados:\n",
    "            self.l_empleados.append(emp)\n",
    "            \n",
    "            \n",
    "    def del_emp(self,emp):\n",
    "        if emp in self.l_empleados:\n",
    "            self.l_empleados.remove(emp)\n",
    "            \n",
    "    def print_emp(self):\n",
    "        for emp in self.l_empleados:\n",
    "            print('-->',emp.nombre_completo())"
   ]
  },
  {
   "cell_type": "code",
   "execution_count": 98,
   "metadata": {},
   "outputs": [
    {
     "name": "stdout",
     "output_type": "stream",
     "text": [
      "David Rozo\n",
      "1.04\n"
     ]
    }
   ],
   "source": [
    "emp1=Empleado('David','Rozo',1)\n",
    "print(emp1.nombre_completo())\n",
    "emp1.aplicar_aumento()\n",
    "print(emp1.print_salario())"
   ]
  },
  {
   "cell_type": "code",
   "execution_count": 99,
   "metadata": {},
   "outputs": [
    {
     "name": "stdout",
     "output_type": "stream",
     "text": [
      "John Doe\n",
      "11.0\n"
     ]
    }
   ],
   "source": [
    "op1=Operario('John','Doe',10,'sandero')\n",
    "print(op1.nombre_completo())\n",
    "op1.aplicar_aumento()\n",
    "print(op1.print_salario())"
   ]
  },
  {
   "cell_type": "code",
   "execution_count": 100,
   "metadata": {},
   "outputs": [],
   "source": [
    "sup1=Supervisior('Jane','Doe',10,[op1])"
   ]
  },
  {
   "cell_type": "code",
   "execution_count": 101,
   "metadata": {},
   "outputs": [
    {
     "name": "stdout",
     "output_type": "stream",
     "text": [
      "Jane.Doe@email.com\n"
     ]
    }
   ],
   "source": [
    "print(sup1.email)\n"
   ]
  },
  {
   "cell_type": "code",
   "execution_count": 103,
   "metadata": {},
   "outputs": [
    {
     "name": "stdout",
     "output_type": "stream",
     "text": [
      "--> John Doe\n"
     ]
    }
   ],
   "source": [
    "sup1.print_emp()"
   ]
  },
  {
   "cell_type": "code",
   "execution_count": null,
   "metadata": {},
   "outputs": [],
   "source": []
  }
 ],
 "metadata": {
  "kernelspec": {
   "display_name": "Python 3",
   "language": "python",
   "name": "python3"
  },
  "language_info": {
   "codemirror_mode": {
    "name": "ipython",
    "version": 3
   },
   "file_extension": ".py",
   "mimetype": "text/x-python",
   "name": "python",
   "nbconvert_exporter": "python",
   "pygments_lexer": "ipython3",
   "version": "3.8.5"
  }
 },
 "nbformat": 4,
 "nbformat_minor": 4
}
