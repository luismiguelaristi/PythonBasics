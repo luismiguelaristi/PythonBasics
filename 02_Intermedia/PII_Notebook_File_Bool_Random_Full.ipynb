{
 "cells": [
  {
   "cell_type": "markdown",
   "metadata": {},
   "source": [
    "## Archivos de Texto\n",
    "### Escritura y Lectura de Archivos\n",
    "\n",
    "- Por lo general, son archivos multi-linea\n",
    "- En Python se utiliza el caracter \"newline\" (\\n) para marcar el final de una linea"
   ]
  },
  {
   "cell_type": "code",
   "execution_count": 1,
   "metadata": {},
   "outputs": [
    {
     "name": "stdout",
     "output_type": "stream",
     "text": [
      "Hola\n",
      "Mundo!\n"
     ]
    }
   ],
   "source": [
    "print(\"Hola\\nMundo!\")"
   ]
  },
  {
   "cell_type": "code",
   "execution_count": 2,
   "metadata": {},
   "outputs": [
    {
     "data": {
      "text/plain": [
       "'6AM\\t0\\n7AM\\t0.1\\n8AM\\t7.1\\n9AM\\t15.3\\n10AM\\t53.4\\n11AM\\t78.0\\n12PM\\t93.8\\n1PM\\t103.5\\n2PM\\t106.1\\n3PM\\t100.9\\n4PM\\t90.2\\n5PM\\t74.1\\n6PM\\t52.1\\n7PM\\t23.6\\n8PM\\t3.3\\n9PM\\t0'"
      ]
     },
     "execution_count": 2,
     "metadata": {},
     "output_type": "execute_result"
    }
   ],
   "source": [
    "f = open('solar.txt','r') # abrir el archivo y lectura \n",
    "data = f.read() # lee todo el contenido directamente y lo almacena en la vble\n",
    "f.close\n",
    "data"
   ]
  },
  {
   "cell_type": "markdown",
   "metadata": {},
   "source": [
    "- Utilizando la función `with` se desarrolla la operación previa de forma segura."
   ]
  },
  {
   "cell_type": "code",
   "execution_count": 4,
   "metadata": {},
   "outputs": [
    {
     "data": {
      "text/plain": [
       "True"
      ]
     },
     "execution_count": 4,
     "metadata": {},
     "output_type": "execute_result"
    }
   ],
   "source": [
    "with open('solar.txt','r') as f:\n",
    "    data = f.read()\n",
    "f.closed # no es necesario cerrarlo manualmente (with lo hace), confirmación"
   ]
  },
  {
   "cell_type": "code",
   "execution_count": 5,
   "metadata": {},
   "outputs": [
    {
     "data": {
      "text/plain": [
       "'6AM\\t0\\n7AM\\t0.1\\n8AM\\t7.1\\n9AM\\t15.3\\n10AM\\t53.4\\n11AM\\t78.0\\n12PM\\t93.8\\n1PM\\t103.5\\n2PM\\t106.1\\n3PM\\t100.9\\n4PM\\t90.2\\n5PM\\t74.1\\n6PM\\t52.1\\n7PM\\t23.6\\n8PM\\t3.3\\n9PM\\t0'"
      ]
     },
     "execution_count": 5,
     "metadata": {},
     "output_type": "execute_result"
    }
   ],
   "source": [
    "data"
   ]
  },
  {
   "cell_type": "markdown",
   "metadata": {},
   "source": [
    "- `f.read(size)` lee la cantidad de caracteres desde la posición actual.\n",
    "- Si el final del archivo es alcanzado, `f.read()` presentará un texto en blanco `' '`"
   ]
  },
  {
   "cell_type": "code",
   "execution_count": 8,
   "metadata": {},
   "outputs": [
    {
     "data": {
      "text/plain": [
       "'6AM\\t0\\n7A'"
      ]
     },
     "execution_count": 8,
     "metadata": {},
     "output_type": "execute_result"
    }
   ],
   "source": [
    "f = open('solar.txt','r')\n",
    "f.read(8)\n"
   ]
  },
  {
   "cell_type": "code",
   "execution_count": 9,
   "metadata": {},
   "outputs": [
    {
     "data": {
      "text/plain": [
       "'M'"
      ]
     },
     "execution_count": 9,
     "metadata": {},
     "output_type": "execute_result"
    }
   ],
   "source": [
    "f.read(1)"
   ]
  },
  {
   "cell_type": "code",
   "execution_count": 10,
   "metadata": {},
   "outputs": [
    {
     "data": {
      "text/plain": [
       "'\\t0.1\\n8AM\\t7.1\\n9AM\\t15.3\\n10AM\\t53.4\\n11AM\\t78.0\\n12PM\\t93.8\\n1PM\\t103.5\\n2PM\\t106.1\\n3PM\\t100.9\\n4PM\\t90.2\\n5PM\\t74.1\\n6PM\\t52.1\\n7PM\\t23.6\\n8PM\\t3.3\\n9PM\\t0'"
      ]
     },
     "execution_count": 10,
     "metadata": {},
     "output_type": "execute_result"
    }
   ],
   "source": [
    "f.read()"
   ]
  },
  {
   "cell_type": "code",
   "execution_count": 11,
   "metadata": {},
   "outputs": [
    {
     "data": {
      "text/plain": [
       "''"
      ]
     },
     "execution_count": 11,
     "metadata": {},
     "output_type": "execute_result"
    }
   ],
   "source": [
    "f.read()"
   ]
  },
  {
   "cell_type": "code",
   "execution_count": 12,
   "metadata": {},
   "outputs": [],
   "source": [
    "f.close()"
   ]
  },
  {
   "cell_type": "markdown",
   "metadata": {},
   "source": [
    "- `f.readline()` lee la siguiente linea en el archivo\n",
    "- Si el final del documento es alcanzado, `f.readline()` devuelve un texto en blanco."
   ]
  },
  {
   "cell_type": "code",
   "execution_count": 15,
   "metadata": {},
   "outputs": [
    {
     "name": "stdout",
     "output_type": "stream",
     "text": [
      "6AM\t0\n",
      "7AM\t0.1\n",
      "8AM\t7.1\n",
      "9AM\t15.3\n",
      "10AM\t53.4\n"
     ]
    }
   ],
   "source": [
    "with open('solar.txt','r') as f:\n",
    "    for i in range(5):\n",
    "        line = f.readline()\n",
    "        print(line,end='')"
   ]
  },
  {
   "cell_type": "markdown",
   "metadata": {},
   "source": [
    "- Leer todo el documento linea por linea."
   ]
  },
  {
   "cell_type": "code",
   "execution_count": 18,
   "metadata": {},
   "outputs": [
    {
     "name": "stdout",
     "output_type": "stream",
     "text": [
      "6AM\t0\n",
      "7AM\t0.1\n",
      "8AM\t7.1\n",
      "9AM\t15.3\n",
      "10AM\t53.4\n",
      "11AM\t78.0\n",
      "12PM\t93.8\n",
      "1PM\t103.5\n",
      "2PM\t106.1\n",
      "3PM\t100.9\n",
      "4PM\t90.2\n",
      "5PM\t74.1\n",
      "6PM\t52.1\n",
      "7PM\t23.6\n",
      "8PM\t3.3\n",
      "9PM\t0"
     ]
    }
   ],
   "source": [
    "with open('solar.txt','r') as f:\n",
    "    for line in f:\n",
    "        print(line,end='')"
   ]
  },
  {
   "cell_type": "markdown",
   "metadata": {},
   "source": [
    "- `f.write(string)` escribe el contenido `string` en el archivo.\n",
    "- Si se abre un archivo existente en modo escritura. se reescribira la información desde el principio\n",
    "- Si el nombre del archivo no existe, se creara uno nuevo."
   ]
  },
  {
   "cell_type": "code",
   "execution_count": 19,
   "metadata": {},
   "outputs": [],
   "source": [
    "f = open(\"my_output.txt\",'w')\n",
    "print('hola\\nMundo\\n!',file=f)\n",
    "f.close()"
   ]
  },
  {
   "cell_type": "markdown",
   "metadata": {},
   "source": [
    "- Alternativa con `with`"
   ]
  },
  {
   "cell_type": "code",
   "execution_count": 20,
   "metadata": {},
   "outputs": [],
   "source": [
    "with open('my_output2.txt','w') as f:\n",
    "    f.write('hola\\nMundo\\n!')"
   ]
  },
  {
   "cell_type": "code",
   "execution_count": 21,
   "metadata": {},
   "outputs": [
    {
     "ename": "ValueError",
     "evalue": "I/O operation on closed file.",
     "output_type": "error",
     "traceback": [
      "\u001b[1;31m---------------------------------------------------------------------------\u001b[0m",
      "\u001b[1;31mValueError\u001b[0m                                Traceback (most recent call last)",
      "\u001b[1;32m<ipython-input-21-571e9fb02258>\u001b[0m in \u001b[0;36m<module>\u001b[1;34m\u001b[0m\n\u001b[1;32m----> 1\u001b[1;33m \u001b[0mf\u001b[0m\u001b[1;33m.\u001b[0m\u001b[0mread\u001b[0m\u001b[1;33m(\u001b[0m\u001b[1;33m)\u001b[0m\u001b[1;33m\u001b[0m\u001b[1;33m\u001b[0m\u001b[0m\n\u001b[0m",
      "\u001b[1;31mValueError\u001b[0m: I/O operation on closed file."
     ]
    }
   ],
   "source": [
    "f.read() ## error"
   ]
  },
  {
   "cell_type": "markdown",
   "metadata": {},
   "source": [
    "### Ejemplo: Usuarios\n",
    "- \"Batch mode\": actividad de procesado de información cuando un programa ingresa y da resultados a lo largo de un archivo. "
   ]
  },
  {
   "cell_type": "code",
   "execution_count": 5,
   "metadata": {},
   "outputs": [
    {
     "name": "stdout",
     "output_type": "stream",
     "text": [
      "             George Washington ==> gwashing  \n",
      "                    John Adams ==> jadams    \n",
      "              Thomas Jefferson ==> tjeffers  \n",
      "                 James Madison ==> jmadison  \n",
      "                  James Monroe ==> jmonroe   \n",
      "                    John Adams ==> jadams    \n",
      "                Andrew Jackson ==> ajackson  \n",
      "               Martin VanBuren ==> mvanbure  \n",
      "              William Harrison ==> wharriso  \n",
      "                    John Tyler ==> jtyler    \n",
      "                    James Polk ==> jpolk     \n",
      "                Zachary Taylor ==> ztaylor   \n",
      "              Millard Fillmore ==> mfillmor  \n",
      "               Franklin Pierce ==> fpierce   \n",
      "                James Buchanan ==> jbuchana  \n",
      "               Abraham Lincoln ==> alincoln  \n",
      "                Andrew Johnson ==> ajohnson  \n",
      "                 Ulysses Grant ==> ugrant    \n",
      "              Rutherford Hayes ==> rhayes    \n",
      "                James Garfield ==> jgarfiel  \n",
      "                Chester Arthur ==> carthur   \n",
      "              Grover Cleveland ==> gclevela  \n",
      "             Benjamin Harrison ==> bharriso  \n",
      "              Grover Cleveland ==> gclevela  \n",
      "              William McKinley ==> wmckinle  \n",
      "            Theodore Roosevelt ==> trooseve  \n",
      "                  William Taft ==> wtaft     \n",
      "                Woodrow Wilson ==> wwilson   \n",
      "                Warren Harding ==> wharding  \n",
      "               Calvin Coolidge ==> ccoolidg  \n",
      "                Herbert Hoover ==> hhoover   \n",
      "            Franklin Roosevelt ==> frooseve  \n",
      "                  Harry Truman ==> htruman   \n",
      "             Dwight Eisenhower ==> deisenho  \n",
      "                  John Kennedy ==> jkennedy  \n",
      "                Lyndon Johnson ==> ljohnson  \n",
      "                 Richard Nixon ==> rnixon    \n",
      "                   Gerald Ford ==> gford     \n",
      "                  James Carter ==> jcarter   \n",
      "                 Ronald Reagan ==> rreagan   \n",
      "                 George HWBush ==> ghwbush   \n",
      "               William Clinton ==> wclinton  \n",
      "                  George WBush ==> gwbush    \n",
      "                  Barack Obama ==> bobama    \n",
      "                  Donald Trump ==> dtrump    \n",
      "nombre de usuario fueron almacendos en usernames.txt\n"
     ]
    }
   ],
   "source": [
    "with open('realnames.txt','r') as f_in, open('username.txt','w') as f_out:\n",
    "    for line in f_in:\n",
    "        first, last =line.split()\n",
    "        username=(first[0].lower()+last[:7].lower())\n",
    "        print('{:>30} ==> {:<10}'.format(line[:-1],username))\n",
    "        f_out.write(username + '\\n')\n",
    "    print('nombre de usuario fueron almacendos en usernames.txt')\n",
    "    "
   ]
  },
  {
   "cell_type": "markdown",
   "metadata": {},
   "source": [
    "## Bool"
   ]
  },
  {
   "cell_type": "markdown",
   "metadata": {},
   "source": [
    "- Una expresión tipo Bool, retorna `True` or `False`.\n",
    "- Operadores :\n",
    "\n",
    "| Operador | Significado             |\n",
    "|:---------|:------------------------|\n",
    "| <        | Estrictamente menor que |\n",
    "| <=       | Menor o igual a         |\n",
    "| >        | Estrictamente mayor que |\n",
    "| >=       | Mayor o igual a         |\n",
    "| ==       | Igual a                 |\n",
    "| !=       | No igual a              |\n",
    "| is       | Identidad de objeto     |\n",
    "| is not   | Negador de Identidad    |"
   ]
  },
  {
   "cell_type": "markdown",
   "metadata": {},
   "source": [
    "### Reglas de precedencia\n",
    "\n",
    "- El orden de precedencia, (de alto a bajo), es `not`,`and`, `or`. \n",
    "- Los operadores tiene menor autoridad que los comparadores.\n",
    "- Una práctica recomendada es utilizar paréntesis para prevenir confusión\n"
   ]
  },
  {
   "cell_type": "code",
   "execution_count": 1,
   "metadata": {},
   "outputs": [
    {
     "data": {
      "text/plain": [
       "True"
      ]
     },
     "execution_count": 1,
     "metadata": {},
     "output_type": "execute_result"
    }
   ],
   "source": [
    "x, y, z = False, True, True\n",
    "x and not y or z  # Equivalent to (x and (not y)) or z"
   ]
  },
  {
   "cell_type": "markdown",
   "metadata": {},
   "source": [
    "### Álgebra Booleana"
   ]
  },
  {
   "cell_type": "markdown",
   "metadata": {},
   "source": [
    "- Double Negation:\n",
    "    - `not (not x) == x`\n",
    "\n",
    "- Commutative law:\n",
    "    - `x and y == y and x`\n",
    "    - `x or y == y or x`\n",
    "\n",
    "- Associative law:\n",
    "    - `(x and y) and z == x and (y and z)`\n",
    "    - `(x or y) or z == x or (y or z)`\n",
    "\n",
    "- Distributive law:\n",
    "    - `x and (y or z) == (x and y) or (x and z)`\n",
    "    - `x or (y and z) == (x or y) and (x or z)`\n",
    "\n",
    "- DeMorgan's laws:\n",
    "    - `not (x and y) == (not x) or (not y)`\n",
    "    - `not (x or y) == (not x) and (not y)`"
   ]
  },
  {
   "cell_type": "markdown",
   "metadata": {},
   "source": [
    "## Random Library"
   ]
  },
  {
   "cell_type": "markdown",
   "metadata": {},
   "source": [
    "### Intro.\n",
    "\n",
    "- Esta librería se utiliza para generar valores aleatorios siguiendo algunas de las distribuciones de probabilidad más conocidas (normal, lognormal, uniforme, etc.)\n"
   ]
  },
  {
   "cell_type": "code",
   "execution_count": 6,
   "metadata": {},
   "outputs": [],
   "source": [
    "import random"
   ]
  },
  {
   "cell_type": "markdown",
   "metadata": {},
   "source": [
    "### Funciones para Enteros \n",
    "- `random.randrange([start=0,]end[, step=1])` retorna un elemento aleatorio desde `range([start=0, ] end[, step=1])`, incluyendo el `start` y excluyendo `end` "
   ]
  },
  {
   "cell_type": "code",
   "execution_count": 23,
   "metadata": {},
   "outputs": [
    {
     "name": "stdout",
     "output_type": "stream",
     "text": [
      "4\n",
      "13\n",
      "-10\n"
     ]
    }
   ],
   "source": [
    "x = random.randrange(5) # un valor entre (0, 1, 2 , 3, 4)\n",
    "print(x)\n",
    "\n",
    "y = random.randrange(11,15) # un valor entre (11, 12, 13, 14)\n",
    "print(y)\n",
    "\n",
    "z = random.randrange(-10,0,3) # un valor entre (-10, -7, -4, -1)\n",
    "print(z)"
   ]
  },
  {
   "cell_type": "markdown",
   "metadata": {},
   "source": [
    "- `random.randint(a, b)` retorna un entero aleatorio entre `(a, b)` incluyendo los dos valores."
   ]
  },
  {
   "cell_type": "code",
   "execution_count": 24,
   "metadata": {},
   "outputs": [
    {
     "name": "stdout",
     "output_type": "stream",
     "text": [
      "2\n"
     ]
    }
   ],
   "source": [
    "w = random.randint(-2,2) # un valor entre (-2,-1,0,1,2)\n",
    "print(w)"
   ]
  },
  {
   "cell_type": "markdown",
   "metadata": {},
   "source": [
    "### Funciones con Floats\n",
    "\n",
    "- `random.random()` retorna un número aleatorio en punto flotante (real), a partir de una distribución de probabilidad uniforme, en el rango de `[0, 1)` (incluyendo 0 y excluyendo 1)"
   ]
  },
  {
   "cell_type": "markdown",
   "metadata": {},
   "source": [
    "<img src=\"DistrUniforme.png\" alt=\"Indexing:DistrUniforme\" style=\"width: 8cm;\"/>"
   ]
  },
  {
   "cell_type": "code",
   "execution_count": 26,
   "metadata": {},
   "outputs": [
    {
     "name": "stdout",
     "output_type": "stream",
     "text": [
      "0.12777916173805337\n"
     ]
    }
   ],
   "source": [
    "y = random.random()\n",
    "print(y)"
   ]
  },
  {
   "cell_type": "markdown",
   "metadata": {},
   "source": [
    "- `random.uniform(a, b)` retorna un numero aleatorio en punto flotante a partir de una distribución de probabilidad uniforme en el rango `[a, b)`."
   ]
  },
  {
   "cell_type": "code",
   "execution_count": 27,
   "metadata": {
    "scrolled": true
   },
   "outputs": [
    {
     "name": "stdout",
     "output_type": "stream",
     "text": [
      "2.876189872035332\n"
     ]
    }
   ],
   "source": [
    "y = random.uniform(2.5, 5.0)\n",
    "print(y)"
   ]
  },
  {
   "cell_type": "markdown",
   "metadata": {},
   "source": [
    "- Otras distribuciones de probabilidad:\n",
    "    - random.triangular(low, high, mode)\n",
    "    - random.betavariate(alpha, beta)\n",
    "    - random.expovariate(lambd)\n",
    "    - random.gammavariate(alpha, beta)\n",
    "    - **random.gauss(mu, sigma)**\n",
    "    - random.lognormvariate(mu, sigma)\n",
    "    - random.normalvariate(mu, sigma)\n",
    "    - random.vonmisesvariate(mu, kappa)\n",
    "    - random.paretovariate(alpha)\n",
    "    - random.weibullvariate(alpha, beta)\n",
    "- [More Info](https://docs.python.org/3/library/random.html)"
   ]
  },
  {
   "cell_type": "markdown",
   "metadata": {},
   "source": [
    "<img src=\"DistrNormal.png\" alt=\"Indexing:DistrUniforme\" style=\"width: 8cm;\"/>"
   ]
  },
  {
   "cell_type": "markdown",
   "metadata": {},
   "source": [
    "### Función Shuffle\n",
    "\n",
    "- `random.shuffle(x)` modifica una secuencia `x` (array o list) en su lugar, cambiando el contenido de orden."
   ]
  },
  {
   "cell_type": "code",
   "execution_count": 35,
   "metadata": {},
   "outputs": [
    {
     "name": "stdout",
     "output_type": "stream",
     "text": [
      "[1, 2, 3]\n",
      "[2, 1, 3]\n"
     ]
    }
   ],
   "source": [
    "x = [1,2,3]\n",
    "print(x)\n",
    "\n",
    "random.shuffle(x)\n",
    "print(x)"
   ]
  },
  {
   "cell_type": "markdown",
   "metadata": {},
   "source": [
    "### Pseudo-Random y Reproducibilidad\n",
    "\n",
    "- Los número generados por las funciones de la librería *Random*, son denominados pseudo-aleatorias debido a que aparentan aleatoridad, lo que en realidad no ocurre.\n",
    "- Los resultados obtenidos son completamente deterministicos. Se obtienen mediante `seeds` "
   ]
  },
  {
   "cell_type": "code",
   "execution_count": 67,
   "metadata": {},
   "outputs": [
    {
     "name": "stdout",
     "output_type": "stream",
     "text": [
      "0.13436424411240122\n",
      "0.13436424411240122\n",
      "0.9560342718892494\n"
     ]
    }
   ],
   "source": [
    "random.seed(1) # seed=1001 se genera un valor aleatorio\n",
    "x=random.random()\n",
    "print(x)\n",
    "\n",
    "random.seed(1) # reutilizando el mismo seed=1001\n",
    "x=random.random()\n",
    "print(x)\n",
    "\n",
    "random.seed(2) # utilizando otro seed=1002\n",
    "x=random.random()\n",
    "print(x)\n",
    "\n"
   ]
  },
  {
   "cell_type": "code",
   "execution_count": 65,
   "metadata": {},
   "outputs": [
    {
     "name": "stdout",
     "output_type": "stream",
     "text": [
      "0.7359699890685233\n"
     ]
    }
   ],
   "source": [
    "x=random.random()\n",
    "print(x)"
   ]
  },
  {
   "cell_type": "markdown",
   "metadata": {},
   "source": []
  }
 ],
 "metadata": {
  "kernelspec": {
   "display_name": "Python 3",
   "language": "python",
   "name": "python3"
  },
  "language_info": {
   "codemirror_mode": {
    "name": "ipython",
    "version": 3
   },
   "file_extension": ".py",
   "mimetype": "text/x-python",
   "name": "python",
   "nbconvert_exporter": "python",
   "pygments_lexer": "ipython3",
   "version": "3.8.5"
  }
 },
 "nbformat": 4,
 "nbformat_minor": 4
}
