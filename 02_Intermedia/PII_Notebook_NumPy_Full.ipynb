{
 "cells": [
  {
   "cell_type": "markdown",
   "metadata": {},
   "source": [
    "# NumPy Library"
   ]
  },
  {
   "cell_type": "code",
   "execution_count": 2,
   "metadata": {},
   "outputs": [],
   "source": [
    "import numpy as np\n",
    "\n",
    "def fn_pm(mat):\n",
    "    print(mat,'\\n')\n",
    "    "
   ]
  },
  {
   "cell_type": "markdown",
   "metadata": {},
   "source": [
    "## The basics"
   ]
  },
  {
   "cell_type": "code",
   "execution_count": 122,
   "metadata": {},
   "outputs": [
    {
     "name": "stdout",
     "output_type": "stream",
     "text": [
      "[1 2 3] \n",
      "\n",
      "[[1.2 1.5 1.6]\n",
      " [1.2 1.5 1.6]] \n",
      "\n",
      "[[1.2 1.5 1.6]\n",
      " [1.2 1.5 1.6]] \n",
      "\n",
      "[[  1.2   1.5   1.6]\n",
      " [100.  100.  100. ]] \n",
      "\n",
      "[[  1.2   1.5   1.6]\n",
      " [100.  100.  100. ]] \n",
      "\n",
      "[[ 1.2  1.5  1.6]\n",
      " [20.  20.  20. ]] \n",
      "\n",
      "[[  1.2   1.5   1.6]\n",
      " [100.  100.  100. ]] \n",
      "\n",
      "[[  1.2   1.5   1.6]\n",
      " [100.  100.  100. ]] \n",
      "\n"
     ]
    }
   ],
   "source": [
    "a = np.array([1,2,3]) # integer arrray\n",
    "print(a,'\\n')\n",
    "\n",
    "b= np.array([[1.2,1.5,1.6],[1.2,1.5,1.6]]) #float array\n",
    "print(b,'\\n')\n",
    "\n",
    "# copy array with numpy \n",
    "\n",
    "c=b\n",
    "print(c,'\\n')\n",
    "c[1]=100\n",
    "\n",
    "print(b,'\\n')\n",
    "\n",
    "print(c,'\\n')\n",
    "\n",
    "d=b.copy()\n",
    "d[1]=20\n",
    "print(b,'\\n')\n",
    "print(c,'\\n')\n",
    "print(d,'\\n')"
   ]
  },
  {
   "cell_type": "code",
   "execution_count": 14,
   "metadata": {},
   "outputs": [
    {
     "name": "stdout",
     "output_type": "stream",
     "text": [
      "1\n",
      "2\n",
      "(3,)\n",
      "(2, 3)\n"
     ]
    }
   ],
   "source": [
    "# get dimensions\n",
    "print(a.ndim)\n",
    "print(b.ndim)\n",
    "\n",
    "# get shape\n",
    "print(a.shape)\n",
    "print(b.shape)"
   ]
  },
  {
   "cell_type": "markdown",
   "metadata": {},
   "source": [
    "## Accesing, Changing"
   ]
  },
  {
   "cell_type": "code",
   "execution_count": 33,
   "metadata": {},
   "outputs": [
    {
     "name": "stdout",
     "output_type": "stream",
     "text": [
      "[[1.2 1.5 1.6 1.7]\n",
      " [2.2 2.5 2.6 2.7]]\n",
      "(2, 4)\n",
      "2.5\n",
      "[1.2 1.5 1.6 1.7]\n",
      "[1.5 2.5]\n",
      "[[1.2 1.5]\n",
      " [2.2 2.5]]\n",
      "[[2.5 1.5 1.6 1.7]\n",
      " [2.2 2.5 2.6 2.7]]\n"
     ]
    }
   ],
   "source": [
    "c= np.array([[1.2,1.5,1.6,1.7],[2.2,2.5,2.6,2.7]]) #float array\n",
    "print(c) \n",
    "\n",
    "print(c.shape)\n",
    "\n",
    "print(c[1,1]) # return a specific value [row, column]\n",
    "\n",
    "print(c[0,:]) # all columns row 0\n",
    "\n",
    "print(c[:,1]) # all rows column 1\n",
    "\n",
    "print(c[0:2,0:2]) # submatrix\n",
    "\n",
    "c[0,0]=2.5\n",
    "\n",
    "print(c)"
   ]
  },
  {
   "cell_type": "markdown",
   "metadata": {},
   "source": [
    "## 3D Array"
   ]
  },
  {
   "cell_type": "code",
   "execution_count": 40,
   "metadata": {},
   "outputs": [
    {
     "name": "stdout",
     "output_type": "stream",
     "text": [
      "[[[1.2 1.5]\n",
      "  [2.2 2.5]]\n",
      "\n",
      " [[3.6 3.7]\n",
      "  [4.6 4.7]]]\n"
     ]
    }
   ],
   "source": [
    "d= np.array([[[1.2,1.5],[2.2,2.5]],[[3.6,3.7],[4.6,4.7]]]) #float array\n",
    "print(d) "
   ]
  },
  {
   "cell_type": "code",
   "execution_count": 47,
   "metadata": {},
   "outputs": [
    {
     "name": "stdout",
     "output_type": "stream",
     "text": [
      "3.7\n"
     ]
    }
   ],
   "source": [
    "print(d[1,0,1]) # accessing [face,row,column]"
   ]
  },
  {
   "cell_type": "markdown",
   "metadata": {},
   "source": [
    "## Initializing array"
   ]
  },
  {
   "cell_type": "code",
   "execution_count": 91,
   "metadata": {},
   "outputs": [
    {
     "name": "stdout",
     "output_type": "stream",
     "text": [
      "[[[0. 0. 0.]\n",
      "  [0. 0. 0.]\n",
      "  [0. 0. 0.]]\n",
      "\n",
      " [[0. 0. 0.]\n",
      "  [0. 0. 0.]\n",
      "  [0. 0. 0.]]\n",
      "\n",
      " [[0. 0. 0.]\n",
      "  [0. 0. 0.]\n",
      "  [0. 0. 0.]]] \n",
      "\n",
      "[[[1. 1. 1. 1.]\n",
      "  [1. 1. 1. 1.]]\n",
      "\n",
      " [[1. 1. 1. 1.]\n",
      "  [1. 1. 1. 1.]]] \n",
      "\n",
      "[[99 99]\n",
      " [99 99]] \n",
      "\n",
      "[[4 4]\n",
      " [4 4]] \n",
      "\n",
      "[[[0.28837997 0.32314889 0.88868175]\n",
      "  [0.87348813 0.01414884 0.88908156]]\n",
      "\n",
      " [[0.17246698 0.85033761 0.70545411]\n",
      "  [0.16481792 0.61570984 0.86340341]]] \n",
      "\n"
     ]
    }
   ],
   "source": [
    "# matrix al zeros (face,row,column)\n",
    "x1= np.zeros((3,3,3)) \n",
    "print(x1,'\\n')\n",
    "\n",
    "# matrix all ones (face,row,column)\n",
    "x2= np.ones((2,2,4))\n",
    "print(x2,'\\n')\n",
    "\n",
    "# new matrix all with the Number asign (dim(row,col),value)\n",
    "x3 = np.full((2,2), 99) \n",
    "print(x3,'\\n')\n",
    "\n",
    "# new matrix with the same shape and repeted values (shape,value)\n",
    "x4 = np.full_like(x3,4) \n",
    "print(x4,'\\n')\n",
    "\n"
   ]
  },
  {
   "cell_type": "code",
   "execution_count": 175,
   "metadata": {},
   "outputs": [
    {
     "name": "stdout",
     "output_type": "stream",
     "text": [
      "[[0.13522574 0.47811296]\n",
      " [0.97015911 0.45590247]] \n",
      "\n",
      "[[[2 7 1]\n",
      "  [3 5 1]\n",
      "  [8 4 4]]\n",
      "\n",
      " [[9 6 9]\n",
      "  [3 8 9]\n",
      "  [6 2 8]]] \n",
      "\n",
      "[[1. 0. 0.]\n",
      " [0. 1. 0.]\n",
      " [0. 0. 1.]] \n",
      "\n",
      "[[1 2 3]\n",
      " [1 2 3]\n",
      " [1 2 3]] \n",
      "\n",
      "[0 1 2 3 4 5] \n",
      "\n",
      "[-2.  -1.5 -1.  -0.5  0.   0.5] \n",
      "\n",
      "[0.  2.5 5. ] \n",
      "\n"
     ]
    }
   ],
   "source": [
    "# identity matrix\n",
    "x8=np.identity(3)\n",
    "print(x8,'\\n')\n",
    "\n",
    "# repeat an array\n",
    "x9=np.array([[1,2,3]])\n",
    "x10=np.repeat(x9,3,axis=0)\n",
    "print(x10,'\\n')\n",
    "\n",
    "# return a array from a list (start form 0 to 6 (excluyent de end))\n",
    "x10 = np.arange(6)\n",
    "fn_pm(x10)\n",
    "\n",
    "# return a array from a list (start 'a' to end 'b' with a step 'c')\n",
    "x10 = np.arange(-2,1,0.5)\n",
    "fn_pm(x10)\n",
    "\n",
    "# array of values equally distributed\n",
    "x11= np.linspace(0,5,3)\n",
    "fn_pm(x11)"
   ]
  },
  {
   "cell_type": "markdown",
   "metadata": {},
   "source": [
    "## Example "
   ]
  },
  {
   "cell_type": "code",
   "execution_count": 115,
   "metadata": {},
   "outputs": [
    {
     "name": "stdout",
     "output_type": "stream",
     "text": [
      "[[1. 1. 1. 1. 1.]\n",
      " [1. 1. 1. 1. 1.]\n",
      " [1. 1. 1. 1. 1.]\n",
      " [1. 1. 1. 1. 1.]\n",
      " [1. 1. 1. 1. 1.]] \n",
      "\n",
      "[[0. 0. 0.]\n",
      " [0. 9. 0.]\n",
      " [0. 0. 0.]] \n",
      "\n",
      "[[1. 1. 1. 1. 1.]\n",
      " [1. 0. 0. 0. 1.]\n",
      " [1. 0. 9. 0. 1.]\n",
      " [1. 0. 0. 0. 1.]\n",
      " [1. 1. 1. 1. 1.]] \n",
      "\n"
     ]
    }
   ],
   "source": [
    "output=np.ones([5,5])\n",
    "print(output,'\\n')\n",
    "\n",
    "temp=np.zeros([3,3])\n",
    "temp[1,1]=9\n",
    "print(temp,'\\n')\n",
    "\n",
    "output[1:4,1:4]=temp\n",
    "print(output,'\\n')"
   ]
  },
  {
   "cell_type": "markdown",
   "metadata": {},
   "source": [
    "## Reorganizing arrays"
   ]
  },
  {
   "cell_type": "code",
   "execution_count": 141,
   "metadata": {},
   "outputs": [
    {
     "name": "stdout",
     "output_type": "stream",
     "text": [
      "[[1 2 3 4]\n",
      " [4 5 6 7]] \n",
      "\n",
      "[[1 2]\n",
      " [3 4]\n",
      " [4 5]\n",
      " [6 7]] \n",
      "\n",
      "[[[1 2]\n",
      "  [3 4]]\n",
      "\n",
      " [[4 5]\n",
      "  [6 7]]] \n",
      "\n",
      "[[1 2 3 4]\n",
      " [1 2 3 4]] \n",
      "\n",
      "[1 2 3 4 1 2 3 4] \n",
      "\n"
     ]
    }
   ],
   "source": [
    "y1=np.array([[1,2,3,4],[4,5,6,7]])\n",
    "print(y1,'\\n')\n",
    "\n",
    "y2=y1.reshape((4,2))\n",
    "print(y2,'\\n')\n",
    "\n",
    "y3=y1.reshape((2,2,2)) # reshape values, take care of the data to fit on the deseare shape\n",
    "print(y3,'\\n')\n",
    "\n",
    "#vertical stacking\n",
    "v1,v2=np.array([1,2,3,4]),np.array([1,2,3,4])\n",
    "\n",
    "v3=np.vstack([v1,v2])\n",
    "print(v3,'\\n')\n",
    "\n",
    "#horizontal stacking\n",
    "v4=np.hstack([v1,v2])\n",
    "print(v4,'\\n')\n"
   ]
  },
  {
   "cell_type": "markdown",
   "metadata": {},
   "source": [
    "## Mathematics"
   ]
  },
  {
   "cell_type": "code",
   "execution_count": 4,
   "metadata": {},
   "outputs": [
    {
     "name": "stdout",
     "output_type": "stream",
     "text": [
      "[1 2 3 4] \n",
      "\n",
      "[3 4 5 6] \n",
      "\n",
      "[-1  0  1  2] \n",
      "\n",
      "[2 4 6 8] \n",
      "\n",
      "[0.5 1.  1.5 2. ] \n",
      "\n",
      "[ 1  4  9 16] \n",
      "\n",
      "[ 0.84147098  0.90929743  0.14112001 -0.7568025 ] \n",
      "\n"
     ]
    }
   ],
   "source": [
    "a1=np.array([1,2,3,4])\n",
    "fn_pm(a1)\n",
    "\n",
    "#operations element wise\n",
    "fn_pm(a1+2)\n",
    "fn_pm(a1-2)\n",
    "fn_pm(a1*2)\n",
    "fn_pm(a1/2)\n",
    "fn_pm(a1**2)\n",
    "\n",
    "fn_pm(np.sin(a1))"
   ]
  },
  {
   "cell_type": "code",
   "execution_count": 5,
   "metadata": {},
   "outputs": [
    {
     "name": "stdout",
     "output_type": "stream",
     "text": [
      "[4 5 6 7] \n",
      "\n",
      "[ 5  7  9 11] \n",
      "\n",
      "[-3 -3 -3 -3] \n",
      "\n",
      "[ 4 10 18 28] \n",
      "\n",
      "[0.25       0.4        0.5        0.57142857] \n",
      "\n",
      "[    1    32   729 16384] \n",
      "\n"
     ]
    }
   ],
   "source": [
    "b1=np.array([4,5,6,7])\n",
    "fn_pm(b1)\n",
    "\n",
    "#operations element wise\n",
    "fn_pm(a1+b1)\n",
    "fn_pm(a1-b1)\n",
    "fn_pm(a1*b1)\n",
    "fn_pm(a1/b1)\n",
    "fn_pm(a1**b1)"
   ]
  },
  {
   "cell_type": "code",
   "execution_count": 180,
   "metadata": {},
   "outputs": [
    {
     "name": "stdout",
     "output_type": "stream",
     "text": [
      "[[6 7]\n",
      " [4 5]] \n",
      "\n",
      "22 \n",
      "\n",
      "[10 12] \n",
      "\n",
      "[13  9] \n",
      "\n"
     ]
    }
   ],
   "source": [
    "c1=np.array([[6,7],[4,5]])\n",
    "fn_pm(c1)\n",
    "\n",
    "fn_pm(np.sum(c1)) # all values\n",
    "fn_pm(np.sum(c1,axis=0)) # sum by column\n",
    "fn_pm(np.sum(c1,axis=1)) # sum by row\n",
    "\n"
   ]
  },
  {
   "cell_type": "markdown",
   "metadata": {},
   "source": [
    "## Linear Algebra"
   ]
  },
  {
   "cell_type": "code",
   "execution_count": 188,
   "metadata": {},
   "outputs": [
    {
     "name": "stdout",
     "output_type": "stream",
     "text": [
      "[[1. 1. 1.]\n",
      " [1. 1. 1.]] \n",
      "\n",
      "[[2 2]\n",
      " [2 2]\n",
      " [2 2]] \n",
      "\n",
      "[[6. 6.]\n",
      " [6. 6.]] \n",
      "\n",
      "[[1. 0. 0.]\n",
      " [0. 1. 0.]\n",
      " [0. 0. 1.]] \n",
      "\n",
      "1.0 \n",
      "\n",
      "[[0 1]\n",
      " [2 3]] \n",
      "\n",
      "[[0 2]\n",
      " [1 3]] \n",
      "\n",
      "[[-1.5  0.5]\n",
      " [ 1.   0. ]] \n",
      "\n",
      "[[5]\n",
      " [7]] \n",
      "\n",
      "[[-4.]\n",
      " [ 5.]] \n",
      "\n"
     ]
    }
   ],
   "source": [
    "d1 = np.ones((2,3))\n",
    "fn_pm(d1)\n",
    "\n",
    "d2=np.full((3,2),2)\n",
    "fn_pm(d2)\n",
    "\n",
    "#matrix multiplication \n",
    "fn_pm(np.matmul(d1,d2))\n",
    "\n",
    "#determinant \n",
    "d3=np.identity(3)\n",
    "fn_pm(d3)\n",
    "fn_pm(np.linalg.det(d3))\n",
    "\n",
    "\n",
    "# new matrix \n",
    "d4=np.array([[0,1],[2,3]])\n",
    "fn_pm(d4)\n",
    "\n",
    "# transponse matrix (row to column, column to row)\n",
    "d5=np.transpose(d4)\n",
    "fn_pm(d5)\n",
    "\n",
    "# inverse matrix \n",
    "d6=np.linalg.inv(d4)\n",
    "fn_pm(d6)\n",
    "\n",
    "# linear solver\n",
    "b= np.array([[5],[7]])\n",
    "fn_pm(b)\n",
    "\n",
    "x=np.linalg.solve(d4,b)\n",
    "fn_pm(x)"
   ]
  },
  {
   "cell_type": "markdown",
   "metadata": {},
   "source": [
    "## Random Modulus"
   ]
  },
  {
   "cell_type": "code",
   "execution_count": 191,
   "metadata": {},
   "outputs": [
    {
     "name": "stdout",
     "output_type": "stream",
     "text": [
      "[[[0.64564822 0.72071504 0.9314428 ]\n",
      "  [0.13053559 0.2585445  0.17495943]]\n",
      "\n",
      " [[0.09289499 0.18891614 0.20511983]\n",
      "  [0.60955307 0.96915445 0.20001426]]] \n",
      "\n",
      "[[0.04697774 0.09180442]\n",
      " [0.49610241 0.48773508]] \n",
      "\n",
      "[[[2 6 1]\n",
      "  [3 3 5]\n",
      "  [8 6 4]]\n",
      "\n",
      " [[1 6 4]\n",
      "  [6 8 4]\n",
      "  [5 2 6]]] \n",
      "\n",
      "[[77.54930523 78.74501669 88.37874729 81.909958  ]\n",
      " [83.28722269 92.31930185 71.00236867 77.56587541]\n",
      " [95.00691775 97.49648216 78.60197761 70.68858937]\n",
      " [85.46507481 83.28222781 75.11766936 85.10500063]] \n",
      "\n"
     ]
    }
   ],
   "source": [
    "# matrix of random numbers (face,row,columns)\n",
    "x5=np.random.rand(2,2,3) \n",
    "print(x5,'\\n')\n",
    "\n",
    "# matrix with randoms number with the same shape of another matrix (matrix.shape)\n",
    "x6=np.random.sample(x4.shape) \n",
    "print(x6,'\\n')\n",
    "\n",
    "# matrix with random integer numbers with size\n",
    "x7=np.random.randint(1,10, size=(2,3,3))\n",
    "print(x7,'\\n')\n",
    "\n",
    "# matrix from random numbers normally distributed\n",
    "samples = np.random.normal(85, 10, size=(4,4))\n",
    "fn_pm(samples)\n",
    "\n"
   ]
  },
  {
   "cell_type": "markdown",
   "metadata": {},
   "source": [
    "## Miscellaneous"
   ]
  },
  {
   "cell_type": "markdown",
   "metadata": {},
   "source": [
    "### Data from file"
   ]
  },
  {
   "cell_type": "code",
   "execution_count": 144,
   "metadata": {},
   "outputs": [
    {
     "name": "stdout",
     "output_type": "stream",
     "text": [
      "[[1. 2. 3. 4. 5.]\n",
      " [3. 4. 5. 6. 7.]\n",
      " [9. 7. 6. 5. 4.]] \n",
      "\n",
      "[[1 2 3 4 5]\n",
      " [3 4 5 6 7]\n",
      " [9 7 6 5 4]] \n",
      "\n"
     ]
    }
   ],
   "source": [
    "filedata=np.genfromtxt('data.txt',delimiter=',')\n",
    "print(filedata,'\\n') #float for default\n",
    "\n",
    "filedata_int=filedata.astype('int32')\n",
    "print(filedata_int,'\\n')"
   ]
  },
  {
   "cell_type": "markdown",
   "metadata": {},
   "source": [
    "### Boolean and indexing"
   ]
  },
  {
   "cell_type": "code",
   "execution_count": 146,
   "metadata": {},
   "outputs": [
    {
     "name": "stdout",
     "output_type": "stream",
     "text": [
      "[4. 5. 4. 5. 6. 7. 9. 7. 6. 5. 4.] \n",
      "\n"
     ]
    }
   ],
   "source": [
    "DataRed=filedata[filedata>3]\n",
    "print(DataRed,'\\n')"
   ]
  },
  {
   "cell_type": "code",
   "execution_count": null,
   "metadata": {},
   "outputs": [],
   "source": []
  }
 ],
 "metadata": {
  "kernelspec": {
   "display_name": "Python 3",
   "language": "python",
   "name": "python3"
  },
  "language_info": {
   "codemirror_mode": {
    "name": "ipython",
    "version": 3
   },
   "file_extension": ".py",
   "mimetype": "text/x-python",
   "name": "python",
   "nbconvert_exporter": "python",
   "pygments_lexer": "ipython3",
   "version": "3.8.5"
  }
 },
 "nbformat": 4,
 "nbformat_minor": 4
}
