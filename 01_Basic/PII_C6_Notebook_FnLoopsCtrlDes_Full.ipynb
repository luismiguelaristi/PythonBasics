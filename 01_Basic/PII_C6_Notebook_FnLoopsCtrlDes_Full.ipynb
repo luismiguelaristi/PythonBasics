{
 "cells": [
  {
   "cell_type": "markdown",
   "metadata": {},
   "source": [
    "# Funciones, Control de Flujo, Ciclos y Listas"
   ]
  },
  {
   "cell_type": "markdown",
   "metadata": {},
   "source": [
    "## Funciones\n",
    "\n",
    "- Funciones Built-in `print, range, input, int, float, str, list, tuple, dict, set, abs`.\n",
    "- Funciones de una librería estándar: `math.sqrt, math.ceil, math.floor, math.sin, math.cos`, etc.\n",
    "- Definidas por el usuario."
   ]
  },
  {
   "cell_type": "markdown",
   "metadata": {},
   "source": [
    "- Sintaxis para una función:\n",
    "```python\n",
    "def fn_name(p1, p2, ...):  # Parámetros\n",
    "    \"\"\"Comentarios descriptivos sobre la función\"\"\"\n",
    "    Definición de la función```\n",
    "    \n",
    "- Sintaxis para llamar una función\n",
    "```python\n",
    "fn_name(a1, a2, ...)  # Argumentos```"
   ]
  },
  {
   "cell_type": "code",
   "execution_count": 125,
   "metadata": {},
   "outputs": [],
   "source": [
    "def calc_sum(x,y,z):\n",
    "    ''' Función que permite calcular la suma de todos los parámetros '''\n",
    "    print(x+y+z)"
   ]
  },
  {
   "cell_type": "code",
   "execution_count": 126,
   "metadata": {},
   "outputs": [
    {
     "name": "stdout",
     "output_type": "stream",
     "text": [
      "60\n"
     ]
    }
   ],
   "source": [
    "calc_sum(10,20,30)"
   ]
  },
  {
   "cell_type": "markdown",
   "metadata": {},
   "source": [
    "- El comentario inicial provee información sobre la función"
   ]
  },
  {
   "cell_type": "code",
   "execution_count": 124,
   "metadata": {},
   "outputs": [
    {
     "name": "stdout",
     "output_type": "stream",
     "text": [
      "Help on function calc_sum in module __main__:\n",
      "\n",
      "calc_sum(x, y, z)\n",
      "\n"
     ]
    }
   ],
   "source": [
    "help(calc_sum)"
   ]
  },
  {
   "cell_type": "markdown",
   "metadata": {},
   "source": [
    "- Parámetros por defecto\n",
    "- Deben ser ubicados al final, después de los no-por-defecto"
   ]
  },
  {
   "cell_type": "code",
   "execution_count": 4,
   "metadata": {},
   "outputs": [],
   "source": [
    "def calc_sum_v2(x,y=100,z=200):\n",
    "    ''' Función que permite calcular la suma de todos los parámetros '''\n",
    "    print(x+y+z)"
   ]
  },
  {
   "cell_type": "code",
   "execution_count": 5,
   "metadata": {},
   "outputs": [],
   "source": [
    "calc_sum_v2(10)\n",
    "calc_sum_v2(10,20)\n",
    "calc_sum_v2(10,20,30)"
   ]
  },
  {
   "cell_type": "code",
   "execution_count": 7,
   "metadata": {
    "scrolled": true
   },
   "outputs": [
    {
     "ename": "SyntaxError",
     "evalue": "non-default argument follows default argument (<ipython-input-7-9b02d2665adf>, line 1)",
     "output_type": "error",
     "traceback": [
      "\u001b[1;36m  File \u001b[1;32m\"<ipython-input-7-9b02d2665adf>\"\u001b[1;36m, line \u001b[1;32m1\u001b[0m\n\u001b[1;33m    def calc_sum_v3(x=100,y,z=200):\u001b[0m\n\u001b[1;37m                    ^\u001b[0m\n\u001b[1;31mSyntaxError\u001b[0m\u001b[1;31m:\u001b[0m non-default argument follows default argument\n"
     ]
    }
   ],
   "source": [
    "def calc_sum_v3(x=100,y,z=200):\n",
    "    ''' Función que permite calcular la suma de todos los parámetros '''\n",
    "    print(x+y+z)"
   ]
  },
  {
   "cell_type": "markdown",
   "metadata": {},
   "source": [
    "## Ejemplo de Conversión de Velocidad\n",
    "- El siguiente programa convierte de velocidad en el Sistema Internacional a el Sistema Inglés"
   ]
  },
  {
   "cell_type": "code",
   "execution_count": 8,
   "metadata": {},
   "outputs": [],
   "source": [
    "def input_vel():\n",
    "    ''' Esta función recibe pregunta al usuario por una velocidad lineal en [km/h] '''\n",
    "    vel = float(input(\"Digite una velocidad lineal [km/h]: \"))\n",
    "    return vel\n",
    "\n",
    "def conversion_vel(vel):\n",
    "    vel_i=0.621371*vel\n",
    "    return vel_i\n",
    "\n",
    "def output_vel(vel_i):\n",
    "    print(\"La velocidad lineal es:\", vel_i, \"mph\")\n",
    "\n",
    "def main():\n",
    "    vel = input_vel()\n",
    "    vel_conv = conversion_vel(vel)\n",
    "    output_vel(vel_conv)"
   ]
  },
  {
   "cell_type": "code",
   "execution_count": 9,
   "metadata": {},
   "outputs": [
    {
     "name": "stdout",
     "output_type": "stream",
     "text": [
      "Digite una velocidad lineal [km/h]: 100\n",
      "La velocidad lineal es: 62.137100000000004 mph\n"
     ]
    }
   ],
   "source": [
    "main()"
   ]
  },
  {
   "cell_type": "markdown",
   "metadata": {},
   "source": [
    "- Abrir un editor de texto y guardar el código anterior como kmph_2_mph.py\n",
    "- Al final del programa agregar:\n",
    "```python\n",
    "if __name__ == '__main__':\n",
    "    main()\n",
    "```\n",
    "- Ejecutar el programa con la combinación `%run program_name`"
   ]
  },
  {
   "cell_type": "code",
   "execution_count": 10,
   "metadata": {},
   "outputs": [
    {
     "name": "stdout",
     "output_type": "stream",
     "text": [
      "Digite una velocidad lineal [km/h]: 100\n",
      "La velocidad lineal es: 62.14 mph\n"
     ]
    }
   ],
   "source": [
    "%run kmph_2_mph.py"
   ]
  },
  {
   "cell_type": "markdown",
   "metadata": {},
   "source": [
    "- La instrucción `__name__` determina si un módulo fue \"importado\" o \"ejecutado\".\n",
    "- Si el archivo fue ejecutado directamente, el valor de `__name__` es `__main__`.\n",
    "- Si el archivo fue importado, `__name__` presenta el nombre del archivo."
   ]
  },
  {
   "cell_type": "code",
   "execution_count": 11,
   "metadata": {},
   "outputs": [],
   "source": [
    "import kmph_2_mph"
   ]
  },
  {
   "cell_type": "code",
   "execution_count": 12,
   "metadata": {},
   "outputs": [
    {
     "name": "stdout",
     "output_type": "stream",
     "text": [
      "Digite una velocidad lineal [km/h]: 120\n",
      "La velocidad lineal es: 74.56 mph\n"
     ]
    }
   ],
   "source": [
    "kmph_2_mph.main()"
   ]
  },
  {
   "cell_type": "markdown",
   "metadata": {},
   "source": [
    "## Variables Globales y Locales\n",
    "\n",
    "- Una variable local es definida para una función únicamente\n",
    "- Una variable global es definida a fuera de las funciones y esta disponible para todos"
   ]
  },
  {
   "cell_type": "code",
   "execution_count": 13,
   "metadata": {},
   "outputs": [
    {
     "name": "stdout",
     "output_type": "stream",
     "text": [
      "esta variable es local\n",
      "esta variable es Global\n"
     ]
    }
   ],
   "source": [
    "def test():\n",
    "    a= \"esta variable es local\"\n",
    "    print(a)\n",
    "    print(C)\n",
    "    \n",
    "C=\"esta variable es Global\"\n",
    "test()"
   ]
  },
  {
   "cell_type": "markdown",
   "metadata": {},
   "source": [
    "- Si hay duplicidad, tiene prelación la variable dentro de la función."
   ]
  },
  {
   "cell_type": "code",
   "execution_count": 14,
   "metadata": {},
   "outputs": [
    {
     "name": "stdout",
     "output_type": "stream",
     "text": [
      "esta variable es local\n"
     ]
    }
   ],
   "source": [
    "def test():\n",
    "    C= \"esta variable es local\"\n",
    "    print(C)\n",
    "    \n",
    "C=\"esta variable es Global\"\n",
    "test()"
   ]
  },
  {
   "cell_type": "markdown",
   "metadata": {},
   "source": [
    "Una variable no puede ser global y local dentro de la misma función"
   ]
  },
  {
   "cell_type": "code",
   "execution_count": 15,
   "metadata": {},
   "outputs": [
    {
     "ename": "UnboundLocalError",
     "evalue": "local variable 'C' referenced before assignment",
     "output_type": "error",
     "traceback": [
      "\u001b[1;31m---------------------------------------------------------------------------\u001b[0m",
      "\u001b[1;31mUnboundLocalError\u001b[0m                         Traceback (most recent call last)",
      "\u001b[1;32m<ipython-input-15-5d1590ca6313>\u001b[0m in \u001b[0;36m<module>\u001b[1;34m\u001b[0m\n\u001b[0;32m      5\u001b[0m \u001b[1;33m\u001b[0m\u001b[0m\n\u001b[0;32m      6\u001b[0m \u001b[0mC\u001b[0m\u001b[1;33m=\u001b[0m\u001b[1;34m\"esta variable es Global\"\u001b[0m\u001b[1;33m\u001b[0m\u001b[1;33m\u001b[0m\u001b[0m\n\u001b[1;32m----> 7\u001b[1;33m \u001b[0mtest\u001b[0m\u001b[1;33m(\u001b[0m\u001b[1;33m)\u001b[0m\u001b[1;33m\u001b[0m\u001b[1;33m\u001b[0m\u001b[0m\n\u001b[0m",
      "\u001b[1;32m<ipython-input-15-5d1590ca6313>\u001b[0m in \u001b[0;36mtest\u001b[1;34m()\u001b[0m\n\u001b[0;32m      1\u001b[0m \u001b[1;32mdef\u001b[0m \u001b[0mtest\u001b[0m\u001b[1;33m(\u001b[0m\u001b[1;33m)\u001b[0m\u001b[1;33m:\u001b[0m\u001b[1;33m\u001b[0m\u001b[1;33m\u001b[0m\u001b[0m\n\u001b[1;32m----> 2\u001b[1;33m     \u001b[0mprint\u001b[0m\u001b[1;33m(\u001b[0m\u001b[0mC\u001b[0m\u001b[1;33m)\u001b[0m\u001b[1;33m\u001b[0m\u001b[1;33m\u001b[0m\u001b[0m\n\u001b[0m\u001b[0;32m      3\u001b[0m     \u001b[0mC\u001b[0m\u001b[1;33m=\u001b[0m \u001b[1;34m\"esta variable es local\"\u001b[0m\u001b[1;33m\u001b[0m\u001b[1;33m\u001b[0m\u001b[0m\n\u001b[0;32m      4\u001b[0m     \u001b[0mprint\u001b[0m\u001b[1;33m(\u001b[0m\u001b[0mC\u001b[0m\u001b[1;33m)\u001b[0m\u001b[1;33m\u001b[0m\u001b[1;33m\u001b[0m\u001b[0m\n\u001b[0;32m      5\u001b[0m \u001b[1;33m\u001b[0m\u001b[0m\n",
      "\u001b[1;31mUnboundLocalError\u001b[0m: local variable 'C' referenced before assignment"
     ]
    }
   ],
   "source": [
    "def test():\n",
    "    print(C)\n",
    "    C= \"esta variable es local\"\n",
    "    print(C)\n",
    "    \n",
    "C=\"esta variable es Global\"\n",
    "test()"
   ]
  },
  {
   "cell_type": "markdown",
   "metadata": {},
   "source": [
    "- Para acceder en todo momento a la variable, **keyword** `global` dentro de la función"
   ]
  },
  {
   "cell_type": "code",
   "execution_count": 17,
   "metadata": {},
   "outputs": [
    {
     "name": "stdout",
     "output_type": "stream",
     "text": [
      "esta variable es Global\n",
      "esta variable es local\n"
     ]
    }
   ],
   "source": [
    "def test():\n",
    "    global C\n",
    "    print(C)\n",
    "    C= \"esta variable es local\"\n",
    "    print(C)\n",
    "    \n",
    "C=\"esta variable es Global\"\n",
    "test()"
   ]
  },
  {
   "cell_type": "markdown",
   "metadata": {},
   "source": [
    "- Una variable local no puede ser accesada por fuera de la función.\n",
    "- La variable es eliminada cuanda la función finaliza."
   ]
  },
  {
   "cell_type": "code",
   "execution_count": 21,
   "metadata": {},
   "outputs": [
    {
     "name": "stdout",
     "output_type": "stream",
     "text": [
      "esta variable es local\n"
     ]
    },
    {
     "ename": "NameError",
     "evalue": "name 'D' is not defined",
     "output_type": "error",
     "traceback": [
      "\u001b[1;31m---------------------------------------------------------------------------\u001b[0m",
      "\u001b[1;31mNameError\u001b[0m                                 Traceback (most recent call last)",
      "\u001b[1;32m<ipython-input-21-4e046e79b7e4>\u001b[0m in \u001b[0;36m<module>\u001b[1;34m\u001b[0m\n\u001b[0;32m      4\u001b[0m \u001b[1;33m\u001b[0m\u001b[0m\n\u001b[0;32m      5\u001b[0m \u001b[0mtest_v2\u001b[0m\u001b[1;33m(\u001b[0m\u001b[1;33m)\u001b[0m\u001b[1;33m\u001b[0m\u001b[1;33m\u001b[0m\u001b[0m\n\u001b[1;32m----> 6\u001b[1;33m \u001b[0mprint\u001b[0m\u001b[1;33m(\u001b[0m\u001b[0mD\u001b[0m\u001b[1;33m)\u001b[0m\u001b[1;33m\u001b[0m\u001b[1;33m\u001b[0m\u001b[0m\n\u001b[0m",
      "\u001b[1;31mNameError\u001b[0m: name 'D' is not defined"
     ]
    }
   ],
   "source": [
    "def test_v2():\n",
    "    D= \"esta variable es local\"\n",
    "    print(D)\n",
    "    \n",
    "test_v2()\n",
    "print(D)"
   ]
  },
  {
   "cell_type": "markdown",
   "metadata": {},
   "source": [
    "## Returns\n",
    "- Si en la función hay una instrucción `return`el valor de la expresión es enviado devuelta a programa principal."
   ]
  },
  {
   "cell_type": "code",
   "execution_count": 22,
   "metadata": {},
   "outputs": [
    {
     "data": {
      "text/plain": [
       "60"
      ]
     },
     "execution_count": 22,
     "metadata": {},
     "output_type": "execute_result"
    }
   ],
   "source": [
    "def calc_sum(x, y, z):\n",
    "    return x + y + z\n",
    "    print('Este mensaje será ingnorado')\n",
    "\n",
    "r = calc_sum(10, 20, 30)\n",
    "r"
   ]
  },
  {
   "cell_type": "markdown",
   "metadata": {},
   "source": [
    "- Si no esta la **keyword** `return` o si no tiene asignada ninguna expresión. La función devuelve un objeto especial `None`. "
   ]
  },
  {
   "cell_type": "code",
   "execution_count": 23,
   "metadata": {},
   "outputs": [
    {
     "name": "stdout",
     "output_type": "stream",
     "text": [
      "None\n"
     ]
    }
   ],
   "source": [
    "def calc_sum(x, y, z):\n",
    "    r= x + y + z\n",
    "    \n",
    "\n",
    "r = calc_sum(10, 20, 30)\n",
    "print(r)"
   ]
  },
  {
   "cell_type": "code",
   "execution_count": 24,
   "metadata": {},
   "outputs": [
    {
     "name": "stdout",
     "output_type": "stream",
     "text": [
      "None\n"
     ]
    }
   ],
   "source": [
    "def calc_sum(x, y, z):\n",
    "    r= x + y + z\n",
    "    return\n",
    "\n",
    "r = calc_sum(10, 20, 30)\n",
    "print(r)"
   ]
  },
  {
   "cell_type": "markdown",
   "metadata": {},
   "source": [
    "## Control de Flujo\n",
    "\n",
    "### Instrucción `if`\n",
    "\n",
    "- Bloque de definición queriere de indentación. Será ejecutado solo si la `condición`es `verdadera`.\n",
    "\n",
    "#### sintaxis\n",
    "\n",
    "```python\n",
    "if condition:\n",
    "    statement_block\n",
    "```"
   ]
  },
  {
   "cell_type": "markdown",
   "metadata": {},
   "source": [
    "#### Ejemplo: \n",
    "- Escribir un programa que convierta de libras a kilogramos y verifique si el objeto puede pasar la restricción de vuelo de 20 kg."
   ]
  },
  {
   "cell_type": "code",
   "execution_count": 25,
   "metadata": {},
   "outputs": [],
   "source": [
    "def conversion_peso():\n",
    "    lb = float(input(\"Cuál es la masa del objeto? \"))\n",
    "    kg = 0.453592*lb\n",
    "    print(\"El peso del objeto es de: \", format(kg,'.2f'), 'kg')\n",
    "    \n",
    "    if kg > 20:\n",
    "        print('El objeto supera el peso permitido por la aerolinea')\n",
    "    if kg <=20:\n",
    "        print('El objeto se encuentra dentro de limite permitido')"
   ]
  },
  {
   "cell_type": "code",
   "execution_count": 27,
   "metadata": {},
   "outputs": [
    {
     "name": "stdout",
     "output_type": "stream",
     "text": [
      "Cuál es la masa del objeto? 200\n",
      "El peso del objeto es de:  90.72 kg\n",
      "El objeto supera el peso permitido por la aerolinea\n"
     ]
    }
   ],
   "source": [
    "conversion_peso()\n"
   ]
  },
  {
   "cell_type": "markdown",
   "metadata": {},
   "source": [
    "### Definición `if-else`\n",
    "\n",
    "- `Bloque_1`, el cual se ejecutará si la condición es `verdadera`\n",
    "- De lo contrario, el `Bloque_2`, será ejecutado.\n",
    "\n",
    "#### Sintaxis\n",
    "\n",
    "```python\n",
    "if condition:\n",
    "    statement_block_1\n",
    "else:\n",
    "    statement_block_2\n",
    "```"
   ]
  },
  {
   "cell_type": "code",
   "execution_count": 28,
   "metadata": {},
   "outputs": [],
   "source": [
    "def conversion_peso_v2():\n",
    "    lb = float(input(\"Cuál es la masa del objeto? \"))\n",
    "    kg = 0.453592*lb\n",
    "    print(\"El peso del objeto es de: \", format(kg,'.2f'), 'kg')\n",
    "    \n",
    "    if kg > 20:\n",
    "        print('El objeto supera el peso permitido por la aerolinea')\n",
    "    else:\n",
    "        print('El objeto se encuentra dentro de limite permitido')"
   ]
  },
  {
   "cell_type": "code",
   "execution_count": 29,
   "metadata": {},
   "outputs": [
    {
     "name": "stdout",
     "output_type": "stream",
     "text": [
      "Cuál es la masa del objeto? 50\n",
      "El peso del objeto es de:  22.68 kg\n",
      "El objeto supera el peso permitido por la aerolinea\n"
     ]
    }
   ],
   "source": [
    "conversion_peso_v2()"
   ]
  },
  {
   "cell_type": "code",
   "execution_count": 30,
   "metadata": {},
   "outputs": [
    {
     "name": "stdout",
     "output_type": "stream",
     "text": [
      "Cuál es la masa del objeto? 20\n",
      "El peso del objeto es de:  9.07 kg\n",
      "El objeto se encuentra dentro de limite permitido\n"
     ]
    }
   ],
   "source": [
    "conversion_peso_v2()"
   ]
  },
  {
   "cell_type": "markdown",
   "metadata": {},
   "source": [
    "### Definición `if-elif-else`\n",
    "\n",
    "- Python evalúa cada condición en orden, buscando la 1ra que sea `verdadera`.\n",
    "- Si una condición verdadera es encontrada, el bloque correspondiente será ejecutado.\n",
    "- Si ninguna condición es `verdadera`, el `bloque_n` en el último segmento `else` será ejecutado.\n",
    "\n",
    "\n",
    "#### Sintaxis\n",
    "\n",
    "```python\n",
    "if condition_1:\n",
    "    statement_block_1\n",
    "elif condition_2:\n",
    "    statement_block_2\n",
    "elif condition_3:\n",
    "    statement_block_3\n",
    "...\n",
    "else:\n",
    "    statement_block_2\n",
    "```"
   ]
  },
  {
   "cell_type": "markdown",
   "metadata": {},
   "source": [
    "#### Ejemplo: \n",
    "- Escribir que implemente una función de conversión de velocidad lineal (kmph -> mph) y verifique si el vehículo esta sobrepasando la velocidad permitida."
   ]
  },
  {
   "cell_type": "code",
   "execution_count": 38,
   "metadata": {},
   "outputs": [],
   "source": [
    "def fn_conv_kmph_mph(vel):\n",
    "    vel_i=(0.621371)*vel # vel(km/h)\n",
    "    return vel_i #vel_i(mph)\n",
    "\n",
    "def main_vel_test():\n",
    "    vel = float(input('Cuál es su velocidad en km/h? '))\n",
    "    mph = fn_conv_kmph_mph(vel)\n",
    "    print('Su velocidad actual es:',format(mph,'.2f'),'mph')\n",
    "\n",
    "    if mph > 80:\n",
    "        print('Usted se encuentra muy por encima del limite de velocidad permitido, la multa será de 200 USD')\n",
    "    elif 65 < mph <= 80:\n",
    "        print('Usted se encuentra sobre el limite de velocidad, por favor, disminuya su velocidad')\n",
    "    elif 30 <= mph <= 65:\n",
    "        print('Usted se encuentra dentro del limite de velocidad, continue en este rango')\n",
    "    else:\n",
    "        print('Usted va demasiado lento para una autopista, por favor, tome una via secundaria local')\n",
    "    "
   ]
  },
  {
   "cell_type": "code",
   "execution_count": 39,
   "metadata": {
    "scrolled": true
   },
   "outputs": [
    {
     "name": "stdout",
     "output_type": "stream",
     "text": [
      "Cuál es su velocidad en km/h? 150\n",
      "Su velocidad actual es: 93.21 mph\n",
      "Usted se encuentra muy por encima del limite de velocidad permitido, la multa será de 200 USD\n"
     ]
    }
   ],
   "source": [
    "main_vel_test()"
   ]
  },
  {
   "cell_type": "code",
   "execution_count": 40,
   "metadata": {},
   "outputs": [
    {
     "name": "stdout",
     "output_type": "stream",
     "text": [
      "Cuál es su velocidad en km/h? 30\n",
      "Su velocidad actual es: 18.64 mph\n",
      "Usted va demasiado lento para una autopista, por favor, tome una via secundaria local\n"
     ]
    }
   ],
   "source": [
    "main_vel_test()"
   ]
  },
  {
   "cell_type": "markdown",
   "metadata": {},
   "source": [
    "## Loops\n",
    "\n",
    "### for\n",
    "\n",
    "- El ciclo `for` es un ciclo definido. El número de iteraciones es determinado antes de comenzar el ciclo\n",
    "\n",
    "#### Sintaxis\n",
    "```python\n",
    "for item in sequence:\n",
    "    statement block\n",
    "```"
   ]
  },
  {
   "cell_type": "code",
   "execution_count": 42,
   "metadata": {},
   "outputs": [
    {
     "name": "stdout",
     "output_type": "stream",
     "text": [
      "h\n",
      "o\n",
      "l\n",
      "a\n"
     ]
    }
   ],
   "source": [
    "for letra in \"hola\":\n",
    "    print(letra)"
   ]
  },
  {
   "cell_type": "code",
   "execution_count": 43,
   "metadata": {},
   "outputs": [
    {
     "name": "stdout",
     "output_type": "stream",
     "text": [
      "El color actual es: rojo\n",
      "El color actual es: verde\n",
      "El color actual es: azul\n"
     ]
    }
   ],
   "source": [
    "colors = ['rojo', 'verde', 'azul'] # definición de lista\n",
    "for color in colors:\n",
    "    print('El color actual es:', color)"
   ]
  },
  {
   "cell_type": "code",
   "execution_count": 50,
   "metadata": {},
   "outputs": [
    {
     "name": "stdout",
     "output_type": "stream",
     "text": [
      "x =  0 , sin(x) =  0.0000\n",
      "\n",
      "x =  1 , sin(x) =  0.8415\n",
      "\n",
      "x =  2 , sin(x) =  0.9093\n",
      "\n"
     ]
    }
   ],
   "source": [
    "import math\n",
    "for x in range(0,3):\n",
    "    print('x = ',x,',','sin(x) = ',format(math.sin(x),'.4f'))\n",
    "    print()"
   ]
  },
  {
   "cell_type": "markdown",
   "metadata": {},
   "source": [
    "#### Ejemplo:\n",
    "- Escriba un programa que solicite al usuario una serie de números y a partir de ellos, entregue la suma y el promedio."
   ]
  },
  {
   "cell_type": "code",
   "execution_count": 53,
   "metadata": {},
   "outputs": [
    {
     "name": "stdout",
     "output_type": "stream",
     "text": [
      "Cuántos número quiere procesar? 3\n",
      "Ingrese el número: 2\n",
      "Ingrese el número: 3\n",
      "Ingrese el número: 4\n",
      "\n",
      "Usted ingreso 3 valores\n",
      "El total es:  9.0\n",
      "El promedio es:  3.0\n"
     ]
    }
   ],
   "source": [
    "def main_sum_prom():\n",
    "    k = int(input('Cuántos número quiere procesar? '))\n",
    "    total = 0.0\n",
    "    for i in range(k):\n",
    "        num = float(input('Ingrese el número: '))\n",
    "        total += num\n",
    "    \n",
    "    promedio = total / k\n",
    "    print()\n",
    "    print('Usted ingreso', k, 'valores')\n",
    "    print('El total es: ', total)\n",
    "    print('El promedio es: ', promedio)\n",
    "\n",
    "main_sum_prom()"
   ]
  },
  {
   "cell_type": "markdown",
   "metadata": {},
   "source": [
    "### while\n",
    "\n",
    "- El ciclo `for` es un ciclo indefinido. El número de iteraciones es desconocido hasta que no termine de ejecutarse.\n",
    "\n",
    "#### Sintaxis\n",
    "```python\n",
    "while condition:\n",
    "    statement block\n",
    "```"
   ]
  },
  {
   "cell_type": "code",
   "execution_count": 54,
   "metadata": {},
   "outputs": [
    {
     "name": "stdout",
     "output_type": "stream",
     "text": [
      "0\n",
      "1\n",
      "2\n",
      "3\n",
      "4\n"
     ]
    }
   ],
   "source": [
    "for i in range(5):\n",
    "    print(i)"
   ]
  },
  {
   "cell_type": "markdown",
   "metadata": {},
   "source": [
    "- Estructura equivalente con un `while` loop"
   ]
  },
  {
   "cell_type": "code",
   "execution_count": 55,
   "metadata": {},
   "outputs": [
    {
     "name": "stdout",
     "output_type": "stream",
     "text": [
      "0\n",
      "1\n",
      "2\n",
      "3\n",
      "4\n"
     ]
    }
   ],
   "source": [
    "i=0\n",
    "while i < 5:\n",
    "    print(i)\n",
    "    i += 1\n",
    "    "
   ]
  },
  {
   "cell_type": "markdown",
   "metadata": {},
   "source": [
    "- Ciclo infinito \"!!!Cuidado!!!\""
   ]
  },
  {
   "cell_type": "markdown",
   "metadata": {},
   "source": [
    "#### Ciclo interactivo\n",
    "\n",
    "- El programa pregunta si desea agregar más información en cada iteración"
   ]
  },
  {
   "cell_type": "code",
   "execution_count": 74,
   "metadata": {
    "scrolled": true
   },
   "outputs": [
    {
     "name": "stdout",
     "output_type": "stream",
     "text": [
      "ingrese un número: 3\n",
      "desea agregar otro número? (y/n) y\n",
      "ingrese un número: 4\n",
      "desea agregar otro número? (y/n) y\n",
      "ingrese un número: 4\n",
      "desea agregar otro número? (y/n) y\n",
      "ingrese un número: 4\n",
      "desea agregar otro número? (y/n) n\n",
      "\n",
      "Usted ingreso 4 valores\n",
      "El total es:  15.0\n",
      "El promedio es:  3.750\n"
     ]
    }
   ],
   "source": [
    "def main_while_loop_test():\n",
    "    k = 0\n",
    "    total=0.0\n",
    "    more=\"yes\"\n",
    "    while more[0].lower() == 'y':\n",
    "        num = float(input('ingrese un número: '))\n",
    "        k += 1\n",
    "        total += num\n",
    "        more = input(\"desea agregar otro número? (y/n) \")\n",
    "    \n",
    "    promedio = total/k\n",
    "    print()\n",
    "    print('Usted ingreso', k, 'valores')\n",
    "    print('El total es: ', total)\n",
    "    print('El promedio es: ', format(promedio,'.3f'))\n",
    "    \n",
    "main_while_loop_test()"
   ]
  },
  {
   "cell_type": "markdown",
   "metadata": {},
   "source": [
    "## Listas"
   ]
  },
  {
   "cell_type": "markdown",
   "metadata": {},
   "source": [
    "### Introducción\n",
    "\n",
    "- Una lista es un conjunto de elementos arbitrarios encapsulados entre corchetes [ ]"
   ]
  },
  {
   "cell_type": "code",
   "execution_count": 81,
   "metadata": {},
   "outputs": [
    {
     "name": "stdout",
     "output_type": "stream",
     "text": [
      "[2.7, 'Hola Mundo', -3]\n",
      "3\n"
     ]
    }
   ],
   "source": [
    "x = [2.7, 'Hola Mundo', -3]\n",
    "print(x)\n",
    "print(len(x))"
   ]
  },
  {
   "cell_type": "code",
   "execution_count": 79,
   "metadata": {},
   "outputs": [
    {
     "data": {
      "text/plain": [
       "list"
      ]
     },
     "execution_count": 79,
     "metadata": {},
     "output_type": "execute_result"
    }
   ],
   "source": [
    "type(x)"
   ]
  },
  {
   "cell_type": "code",
   "execution_count": 84,
   "metadata": {},
   "outputs": [
    {
     "name": "stdout",
     "output_type": "stream",
     "text": [
      "[3.4, 'Hola', 4, [-7, 'Mundo']]\n"
     ]
    },
    {
     "data": {
      "text/plain": [
       "4"
      ]
     },
     "execution_count": 84,
     "metadata": {},
     "output_type": "execute_result"
    }
   ],
   "source": [
    "y = [3.4, \"Hola\", 4, [-7, 'Mundo']]  # Nested list\n",
    "print(y)\n",
    "len(y)"
   ]
  },
  {
   "cell_type": "code",
   "execution_count": 87,
   "metadata": {},
   "outputs": [
    {
     "name": "stdout",
     "output_type": "stream",
     "text": [
      "[-1, 2, 2, 3.4]\n",
      "[-1, 2, -1, 2, -1, 2]\n"
     ]
    }
   ],
   "source": [
    "print([-1,2]+[2,3.4]) # concater\n",
    "print([-1,2] * 3) # repetición"
   ]
  },
  {
   "cell_type": "code",
   "execution_count": 88,
   "metadata": {},
   "outputs": [
    {
     "name": "stdout",
     "output_type": "stream",
     "text": [
      "[3.4, 'Hola', 4, [-7, 'Hola']]\n"
     ]
    }
   ],
   "source": [
    "ListaIndexing=[3.4, \"Hola\", 4, [-7, \"Hola\"]]\n",
    "print(ListaIndexing)"
   ]
  },
  {
   "cell_type": "markdown",
   "metadata": {},
   "source": [
    "<img src=\"images/ListaIndexing.png\" alt=\"Indexing:IndexingListTest\" style=\"width: 300px;\"/>"
   ]
  },
  {
   "cell_type": "code",
   "execution_count": 93,
   "metadata": {},
   "outputs": [
    {
     "name": "stdout",
     "output_type": "stream",
     "text": [
      "Hola\n",
      "4\n",
      "[-7, 'Hola']\n",
      "-7\n",
      "['Hola', 4]\n"
     ]
    }
   ],
   "source": [
    "print(ListaIndexing[1]) # indexing\n",
    "print(ListaIndexing[-2])\n",
    "print(ListaIndexing[3])\n",
    "\n",
    "print(ListaIndexing[3][0]) # lista interna\n",
    "\n",
    "print(ListaIndexing[1:3]) # Slicing"
   ]
  },
  {
   "cell_type": "code",
   "execution_count": 95,
   "metadata": {},
   "outputs": [
    {
     "name": "stdout",
     "output_type": "stream",
     "text": [
      "['Lunes', 'Martes', 'Miércoles', 'Jueves', 'Viernes']\n"
     ]
    }
   ],
   "source": [
    "dias = ['Lunes', 'Martes', 'Miércoles', 'Jueves', 'Viernes']\n",
    "print(dias)"
   ]
  },
  {
   "cell_type": "code",
   "execution_count": 96,
   "metadata": {},
   "outputs": [
    {
     "data": {
      "text/plain": [
       "'Jueves'"
      ]
     },
     "execution_count": 96,
     "metadata": {},
     "output_type": "execute_result"
    }
   ],
   "source": [
    "dias[4 -1]"
   ]
  },
  {
   "cell_type": "code",
   "execution_count": 97,
   "metadata": {},
   "outputs": [
    {
     "name": "stdout",
     "output_type": "stream",
     "text": [
      "Lunes\n",
      "Martes\n",
      "Miércoles\n",
      "Jueves\n",
      "Viernes\n"
     ]
    }
   ],
   "source": [
    "for d in dias:\n",
    "    print(d)\n"
   ]
  },
  {
   "cell_type": "code",
   "execution_count": 98,
   "metadata": {},
   "outputs": [
    {
     "name": "stdout",
     "output_type": "stream",
     "text": [
      "día 1 es Lunes\n",
      "día 2 es Martes\n",
      "día 3 es Miércoles\n",
      "día 4 es Jueves\n",
      "día 5 es Viernes\n"
     ]
    }
   ],
   "source": [
    "for i, d in enumerate(dias):\n",
    "    print(\"día\", i+1, \"es\", d)"
   ]
  },
  {
   "cell_type": "code",
   "execution_count": 100,
   "metadata": {},
   "outputs": [
    {
     "data": {
      "text/plain": [
       "True"
      ]
     },
     "execution_count": 100,
     "metadata": {},
     "output_type": "execute_result"
    }
   ],
   "source": [
    "\"Lunes\" in dias"
   ]
  },
  {
   "cell_type": "code",
   "execution_count": 102,
   "metadata": {},
   "outputs": [
    {
     "data": {
      "text/plain": [
       "['Lunes', 'Martes', 'Miércoles', 'Jueves', 'Viernes']"
      ]
     },
     "execution_count": 102,
     "metadata": {},
     "output_type": "execute_result"
    }
   ],
   "source": [
    "s = 'Lunes Martes Miércoles Jueves Viernes'\n",
    "s.split()"
   ]
  },
  {
   "cell_type": "code",
   "execution_count": 106,
   "metadata": {},
   "outputs": [
    {
     "data": {
      "text/plain": [
       "['10', '20', '3.15', '-12.2']"
      ]
     },
     "execution_count": 106,
     "metadata": {},
     "output_type": "execute_result"
    }
   ],
   "source": [
    "s = '10, 20, 3.15, -12.2' # la forma importa ()\n",
    "s.split(', ') # coma y espacio"
   ]
  },
  {
   "cell_type": "markdown",
   "metadata": {},
   "source": [
    "### Métodos para listas"
   ]
  },
  {
   "cell_type": "code",
   "execution_count": 123,
   "metadata": {},
   "outputs": [
    {
     "name": "stdout",
     "output_type": "stream",
     "text": [
      "[3, 2]\n",
      "[1, 2]\n",
      "['a', 'd']\n",
      "[]\n",
      "['uno']\n",
      "['uno', 'dos']\n",
      "['cero', 'uno', 'dos']\n",
      "['cero', 'dos', 'uno']\n",
      "['cero', 'uno']\n",
      "['uno', 'cero']\n"
     ]
    }
   ],
   "source": [
    "y = [3, 2]\n",
    "print(y)\n",
    "y[0] = 1 # las listas son modificables \n",
    "print(y)\n",
    "\n",
    "y = ['a', 'b', 'c', 'd']\n",
    "del y[1:3] # función \"delete\"\n",
    "print(y)\n",
    "\n",
    "y = [] # lista en blanco\n",
    "print(y)\n",
    "\n",
    "y.append('uno') # insertar un nuevo elemento al final\n",
    "print(y)\n",
    "\n",
    "y.append('dos')\n",
    "print(y)\n",
    "\n",
    "y.insert(0,'cero') # inserta un nuevo elemento con base en el index\n",
    "print(y)\n",
    "\n",
    "y.sort() # reoganiza la lista de menor a mayor o en orden alfabetico\n",
    "print(y) \n",
    "\n",
    "y.remove('dos') # elimina \n",
    "print(y)\n",
    "\n",
    "y.reverse() # invierte el orden actual\n",
    "print(y)"
   ]
  },
  {
   "cell_type": "code",
   "execution_count": null,
   "metadata": {},
   "outputs": [],
   "source": []
  }
 ],
 "metadata": {
  "kernelspec": {
   "display_name": "Python 3",
   "language": "python",
   "name": "python3"
  },
  "language_info": {
   "codemirror_mode": {
    "name": "ipython",
    "version": 3
   },
   "file_extension": ".py",
   "mimetype": "text/x-python",
   "name": "python",
   "nbconvert_exporter": "python",
   "pygments_lexer": "ipython3",
   "version": "3.8.5"
  }
 },
 "nbformat": 4,
 "nbformat_minor": 4
}
